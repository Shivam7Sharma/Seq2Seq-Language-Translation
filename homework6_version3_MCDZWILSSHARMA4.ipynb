{
    "cells": [
        {
            "cell_type": "code",
            "execution_count": 1,
            "metadata": {
                "id": "BS9X1W_7bUPi"
            },
            "outputs": [],
            "source": [
                "%matplotlib inline"
            ]
        },
        {
            "cell_type": "markdown",
            "metadata": {
                "id": "_ML0qaO3bUPl"
            },
            "source": [
                "\n",
                "# NLP From Scratch: Translation with a Sequence to Sequence Network and Attention\n",
                "**Author**: [Sean Robertson](https://github.com/spro/practical-pytorch)\n",
                "\n",
                "This is the third and final tutorial on doing \"NLP From Scratch\", where we\n",
                "write our own classes and functions to preprocess the data to do our NLP\n",
                "modeling tasks. We hope after you complete this tutorial that you'll proceed to\n",
                "learn how `torchtext` can handle much of this preprocessing for you in the\n",
                "three tutorials immediately following this one.\n",
                "\n",
                "In this project we will be teaching a neural network to translate from\n",
                "French to English.\n",
                "\n",
                "::\n",
                "\n",
                "    [KEY: > input, = target, < output]\n",
                "\n",
                "    > il est en train de peindre un tableau .\n",
                "    = he is painting a picture .\n",
                "    < he is painting a picture .\n",
                "\n",
                "    > pourquoi ne pas essayer ce vin delicieux ?\n",
                "    = why not try that delicious wine ?\n",
                "    < why not try that delicious wine ?\n",
                "\n",
                "    > elle n est pas poete mais romanciere .\n",
                "    = she is not a poet but a novelist .\n",
                "    < she not not a poet but a novelist .\n",
                "\n",
                "    > vous etes trop maigre .\n",
                "    = you re too skinny .\n",
                "    < you re all alone .\n",
                "\n",
                "... to varying degrees of success.\n",
                "\n",
                "This is made possible by the simple but powerful idea of the [sequence\n",
                "to sequence network](https://arxiv.org/abs/1409.3215)_, in which two\n",
                "recurrent neural networks work together to transform one sequence to\n",
                "another. An encoder network condenses an input sequence into a vector,\n",
                "and a decoder network unfolds that vector into a new sequence.\n",
                "\n",
                ".. figure:: /_static/img/seq-seq-images/seq2seq.png\n",
                "   :alt:\n",
                "\n",
                "To improve upon this model we'll use an [attention\n",
                "mechanism](https://arxiv.org/abs/1409.0473)_, which lets the decoder\n",
                "learn to focus over a specific range of the input sequence.\n",
                "\n",
                "**Recommended Reading:**\n",
                "\n",
                "I assume you have at least installed PyTorch, know Python, and\n",
                "understand Tensors:\n",
                "\n",
                "-  https://pytorch.org/ For installation instructions\n",
                "-  :doc:`/beginner/deep_learning_60min_blitz` to get started with PyTorch in general\n",
                "-  :doc:`/beginner/pytorch_with_examples` for a wide and deep overview\n",
                "-  :doc:`/beginner/former_torchies_tutorial` if you are former Lua Torch user\n",
                "\n",
                "\n",
                "It would also be useful to know about Sequence to Sequence networks and\n",
                "how they work:\n",
                "\n",
                "-  [Learning Phrase Representations using RNN Encoder-Decoder for\n",
                "   Statistical Machine Translation](https://arxiv.org/abs/1406.1078)_\n",
                "-  [Sequence to Sequence Learning with Neural\n",
                "   Networks](https://arxiv.org/abs/1409.3215)_\n",
                "-  [Neural Machine Translation by Jointly Learning to Align and\n",
                "   Translate](https://arxiv.org/abs/1409.0473)_\n",
                "-  [A Neural Conversational Model](https://arxiv.org/abs/1506.05869)_\n",
                "\n",
                "You will also find the previous tutorials on\n",
                ":doc:`/intermediate/char_rnn_classification_tutorial`\n",
                "and :doc:`/intermediate/char_rnn_generation_tutorial`\n",
                "helpful as those concepts are very similar to the Encoder and Decoder\n",
                "models, respectively.\n",
                "\n",
                "**Requirements**\n"
            ]
        },
        {
            "cell_type": "code",
            "execution_count": 2,
            "metadata": {
                "id": "T4Q37vFobUPo"
            },
            "outputs": [],
            "source": [
                "from __future__ import unicode_literals, print_function, division\n",
                "from io import open\n",
                "import unicodedata\n",
                "import string\n",
                "import re\n",
                "import random\n",
                "\n",
                "import torch\n",
                "import torch.nn as nn\n",
                "from torch import optim\n",
                "import torch.nn.functional as F\n",
                "\n",
                "device = torch.device(\"cuda\" if torch.cuda.is_available() else \"cpu\")\n",
                "\n",
                "# device = torch.device(\"cpu\")"
            ]
        },
        {
            "cell_type": "code",
            "execution_count": 3,
            "metadata": {},
            "outputs": [
                {
                    "name": "stdout",
                    "output_type": "stream",
                    "text": [
                        "\n",
                        "55\n"
                    ]
                }
            ],
            "source": [
                "# import sys\n",
                "# !{sys.executable} -m pip install -U pip --user\n",
                "# !{sys.executable} -m pip install -U codeium-jupyter --user\n",
                "\n",
                "# add code to print a name\n",
                "\n",
                "print()\n",
                "# write febonacci function\n",
                "def febonacci(n):\n",
                "    if n == 0:\n",
                "        return 0\n",
                "    elif n == 1:\n",
                "        return 1\n",
                "    else:\n",
                "        return febonacci(n-1) + febonacci(n-2)\n",
                "\n",
                "print(febonacci(10))\n"
            ]
        },
        {
            "cell_type": "markdown",
            "metadata": {
                "id": "7Yun65qbbUPp"
            },
            "source": [
                "## Loading data files\n",
                "\n",
                "The data for this project is a set of many thousands of English to\n",
                "French translation pairs.\n",
                "\n",
                "[This question on Open Data Stack\n",
                "Exchange](https://opendata.stackexchange.com/questions/3888/dataset-of-sentences-translated-into-many-languages)_\n",
                "pointed me to the open translation site https://tatoeba.org/ which has\n",
                "downloads available at https://tatoeba.org/eng/downloads - and better\n",
                "yet, someone did the extra work of splitting language pairs into\n",
                "individual text files here: https://www.manythings.org/anki/\n",
                "\n",
                "The English to French pairs are too big to include in the repo, so\n",
                "download to ``data/eng-fra.txt`` before continuing. The file is a tab\n",
                "separated list of translation pairs:\n",
                "\n",
                "::\n",
                "\n",
                "    I am cold.    J'ai froid.\n",
                "\n",
                ".. Note::\n",
                "   Download the data from\n",
                "   [here](https://download.pytorch.org/tutorial/data.zip)\n",
                "   and extract it to the current directory.\n",
                "\n"
            ]
        },
        {
            "cell_type": "markdown",
            "metadata": {
                "id": "VofiBKGpbUPq"
            },
            "source": [
                "Similar to the character encoding used in the character-level RNN\n",
                "tutorials, we will be representing each word in a language as a one-hot\n",
                "vector, or giant vector of zeros except for a single one (at the index\n",
                "of the word). Compared to the dozens of characters that might exist in a\n",
                "language, there are many many more words, so the encoding vector is much\n",
                "larger. We will however cheat a bit and trim the data to only use a few\n",
                "thousand words per language.\n",
                "\n",
                ".. figure:: /_static/img/seq-seq-images/word-encoding.png\n",
                "   :alt:\n",
                "\n",
                "\n",
                "\n"
            ]
        },
        {
            "cell_type": "markdown",
            "metadata": {
                "id": "h-w201m_bUPq"
            },
            "source": [
                "We'll need a unique index per word to use as the inputs and targets of\n",
                "the networks later. To keep track of all this we will use a helper class\n",
                "called ``Lang`` which has word → index (``word2index``) and index → word\n",
                "(``index2word``) dictionaries, as well as a count of each word\n",
                "``word2count`` which will be used to replace rare words later.\n",
                "\n",
                "\n"
            ]
        },
        {
            "cell_type": "code",
            "execution_count": 4,
            "metadata": {
                "id": "8Hg0SfLmbUPr"
            },
            "outputs": [],
            "source": [
                "SOS_token = 0\n",
                "EOS_token = 1\n",
                "\n",
                "\n",
                "class Lang:\n",
                "    def __init__(self, name):\n",
                "        self.name = name\n",
                "        self.word2index = {}\n",
                "        self.word2count = {}\n",
                "        self.index2word = {0: \"SOS\", 1: \"EOS\"}\n",
                "        self.n_words = 2  # Count SOS and EOS\n",
                "\n",
                "    def addSentence(self, sentence):\n",
                "        for word in sentence.split(' '):\n",
                "            self.addWord(word)\n",
                "\n",
                "    def addWord(self, word):\n",
                "        if word not in self.word2index:\n",
                "            self.word2index[word] = self.n_words\n",
                "            self.word2count[word] = 1\n",
                "            self.index2word[self.n_words] = word\n",
                "            self.n_words += 1\n",
                "        else:\n",
                "            self.word2count[word] += 1"
            ]
        },
        {
            "cell_type": "markdown",
            "metadata": {
                "id": "z9cocHV2bUPr"
            },
            "source": [
                "The files are all in Unicode, to simplify we will turn Unicode\n",
                "characters to ASCII, make everything lowercase, and trim most\n",
                "punctuation.\n",
                "\n",
                "\n"
            ]
        },
        {
            "cell_type": "code",
            "execution_count": 5,
            "metadata": {
                "id": "ySP1yHJPbUPs"
            },
            "outputs": [],
            "source": [
                "# Turn a Unicode string to plain ASCII, thanks to\n",
                "# https://stackoverflow.com/a/518232/2809427\n",
                "def unicodeToAscii(s):\n",
                "    return ''.join(\n",
                "        c for c in unicodedata.normalize('NFD', s)\n",
                "        if unicodedata.category(c) != 'Mn'\n",
                "    )\n",
                "\n",
                "# Lowercase, trim, and remove non-letter characters\n",
                "\n",
                "\n",
                "def normalizeString(s):\n",
                "    s = unicodeToAscii(s.lower().strip())\n",
                "    s = re.sub(r\"([.!?])\", r\" \\1\", s)\n",
                "    s = re.sub(r\"[^a-zA-Z.!?]+\", r\" \", s)\n",
                "    return s"
            ]
        },
        {
            "cell_type": "markdown",
            "metadata": {
                "id": "WkkZcqZIbUPs"
            },
            "source": [
                "To read the data file we will split the file into lines, and then split\n",
                "lines into pairs. The files are all English → Other Language, so if we\n",
                "want to translate from Other Language → English I added the ``reverse``\n",
                "flag to reverse the pairs.\n",
                "\n",
                "\n"
            ]
        },
        {
            "cell_type": "code",
            "execution_count": 6,
            "metadata": {
                "id": "vo-FkWBnbUPt"
            },
            "outputs": [],
            "source": [
                "def readLangs(lang1, lang2, reverse=False):\n",
                "    print(\"Reading lines...\")\n",
                "    file_path = \"C:\\\\Users\\\\User\\\\Documents\\\\Python Scripts\\\\eng-fra.txt\\\\eng-fra.txt\"  # Use double backslashe\n",
                "    # Read the file and split into lines\n",
                "    # Read the file and split into lines\n",
                "    with open(file_path, encoding='utf-8') as file:  # Use the defined file_path\n",
                "        lines = file.read().strip().split('\\n')  # Read, strip whitespace, and split into lines\n",
                "\n",
                "\n",
                "    # Split every line into pairs and normalize\n",
                "    pairs = [[normalizeString(s) for s in l.split('\\t')] for l in lines]\n",
                "\n",
                "    # Reverse pairs, make Lang instances\n",
                "    if reverse:\n",
                "        pairs = [list(reversed(p)) for p in pairs]\n",
                "        input_lang = Lang(lang2)\n",
                "        output_lang = Lang(lang1)\n",
                "    else:\n",
                "        input_lang = Lang(lang1)\n",
                "        output_lang = Lang(lang2)\n",
                "\n",
                "    return input_lang, output_lang, pairs"
            ]
        },
        {
            "cell_type": "markdown",
            "metadata": {
                "id": "STnupZfPbUPt"
            },
            "source": [
                "Since there are a *lot* of example sentences and we want to train\n",
                "something quickly, we'll trim the data set to only relatively short and\n",
                "simple sentences. Here the maximum length is 10 words (that includes\n",
                "ending punctuation) and we're filtering to sentences that translate to\n",
                "the form \"I am\" or \"He is\" etc. (accounting for apostrophes replaced\n",
                "earlier).\n",
                "\n",
                "\n"
            ]
        },
        {
            "cell_type": "code",
            "execution_count": 7,
            "metadata": {
                "id": "QgmlnqQNbUPu"
            },
            "outputs": [],
            "source": [
                "MAX_LENGTH = 10\n",
                "\n",
                "eng_prefixes = (\n",
                "    \"i am \", \"i m \",\n",
                "    \"he is\", \"he s \",\n",
                "    \"she is\", \"she s \",\n",
                "    \"you are\", \"you re \",\n",
                "    \"we are\", \"we re \",\n",
                "    \"they are\", \"they re \"\n",
                ")\n",
                "\n",
                "\n",
                "def filterPair(p):\n",
                "    return len(p[0].split(' ')) < MAX_LENGTH and \\\n",
                "        len(p[1].split(' ')) < MAX_LENGTH and \\\n",
                "        p[0].startswith(eng_prefixes)\n",
                "\n",
                "\n",
                "def filterPairs(pairs):\n",
                "    return [pair for pair in pairs if filterPair(pair)]"
            ]
        },
        {
            "cell_type": "code",
            "execution_count": 8,
            "metadata": {
                "colab": {
                    "base_uri": "https://localhost:8080/"
                },
                "id": "S9nPt7-cdeG0",
                "outputId": "c4f0f70e-7f84-40d5-d1e3-8a4af6a987ae"
            },
            "outputs": [],
            "source": [
                "# from google.colab import drive\n",
                "# drive.mount('/content/drive')"
            ]
        },
        {
            "cell_type": "markdown",
            "metadata": {
                "id": "DA-7vdMebUPu"
            },
            "source": [
                "The full process for preparing the data is:\n",
                "\n",
                "-  Read text file and split into lines, split lines into pairs\n",
                "-  Normalize text, filter by length and content\n",
                "-  Make word lists from sentences in pairs\n",
                "\n",
                "\n"
            ]
        },
        {
            "cell_type": "code",
            "execution_count": 9,
            "metadata": {
                "colab": {
                    "base_uri": "https://localhost:8080/"
                },
                "id": "aCh-tdtobUPu",
                "outputId": "ac6a613d-5bfb-4a94-a3d6-0dab4ea5c635"
            },
            "outputs": [
                {
                    "name": "stdout",
                    "output_type": "stream",
                    "text": [
                        "Reading lines...\n",
                        "Read 135842 sentence pairs\n",
                        "Trimmed to 10599 sentence pairs\n",
                        "Counting words...\n",
                        "Counted words:\n",
                        "eng 2802\n",
                        "fra 4345\n",
                        "['you re not married are you ?', 'vous n etes pas mariees si ?']\n"
                    ]
                }
            ],
            "source": [
                "def prepareData(lang1, lang2, reverse=False):\n",
                "    input_lang, output_lang, pairs = readLangs(lang1, lang2, reverse)\n",
                "    print(\"Read %s sentence pairs\" % len(pairs))\n",
                "    pairs = filterPairs(pairs)\n",
                "    print(\"Trimmed to %s sentence pairs\" % len(pairs))\n",
                "    print(\"Counting words...\")\n",
                "    for pair in pairs:\n",
                "        input_lang.addSentence(pair[0])\n",
                "        output_lang.addSentence(pair[1])\n",
                "    print(\"Counted words:\")\n",
                "    print(input_lang.name, input_lang.n_words)\n",
                "    print(output_lang.name, output_lang.n_words)\n",
                "    return input_lang, output_lang, pairs\n",
                "\n",
                "\n",
                "input_lang, output_lang, pairs = prepareData('eng', 'fra', False)\n",
                "print(random.choice(pairs))"
            ]
        },
        {
            "cell_type": "markdown",
            "metadata": {
                "id": "TNNIGtGRbUPv"
            },
            "source": [
                "## The Seq2Seq Model\n",
                "\n",
                "A Recurrent Neural Network, or RNN, is a network that operates on a\n",
                "sequence and uses its own output as input for subsequent steps.\n",
                "\n",
                "A [Sequence to Sequence network](https://arxiv.org/abs/1409.3215)_, or\n",
                "seq2seq network, or [Encoder Decoder\n",
                "network](https://arxiv.org/pdf/1406.1078v3.pdf)_, is a model\n",
                "consisting of two RNNs called the encoder and decoder. The encoder reads\n",
                "an input sequence and outputs a single vector, and the decoder reads\n",
                "that vector to produce an output sequence.\n",
                "\n",
                ".. figure:: /_static/img/seq-seq-images/seq2seq.png\n",
                "   :alt:\n",
                "\n",
                "Unlike sequence prediction with a single RNN, where every input\n",
                "corresponds to an output, the seq2seq model frees us from sequence\n",
                "length and order, which makes it ideal for translation between two\n",
                "languages.\n",
                "\n",
                "Consider the sentence \"Je ne suis pas le chat noir\" → \"I am not the\n",
                "black cat\". Most of the words in the input sentence have a direct\n",
                "translation in the output sentence, but are in slightly different\n",
                "orders, e.g. \"chat noir\" and \"black cat\". Because of the \"ne/pas\"\n",
                "construction there is also one more word in the input sentence. It would\n",
                "be difficult to produce a correct translation directly from the sequence\n",
                "of input words.\n",
                "\n",
                "With a seq2seq model the encoder creates a single vector which, in the\n",
                "ideal case, encodes the \"meaning\" of the input sequence into a single\n",
                "vector — a single point in some N dimensional space of sentences.\n",
                "\n",
                "\n"
            ]
        },
        {
            "cell_type": "markdown",
            "metadata": {
                "id": "MKXWBTeDbUPv"
            },
            "source": [
                "### The Encoder\n",
                "\n",
                "The encoder of a seq2seq network is a RNN that outputs some value for\n",
                "every word from the input sentence. For every input word the encoder\n",
                "outputs a vector and a hidden state, and uses the hidden state for the\n",
                "next input word.\n",
                "\n",
                ".. figure:: /_static/img/seq-seq-images/encoder-network.png\n",
                "   :alt:\n",
                "\n",
                "\n",
                "\n"
            ]
        },
        {
            "cell_type": "code",
            "execution_count": 10,
            "metadata": {
                "id": "bqo-u1-gbUPv"
            },
            "outputs": [],
            "source": [
                "class EncoderRNN(nn.Module):\n",
                "    def __init__(self, input_size, hidden_size, embedding_dim=50):\n",
                "        super(EncoderRNN, self).__init__()\n",
                "        self.hidden_size = hidden_size\n",
                "        self.embedding_dim = embedding_dim\n",
                "\n",
                "        # self.embedding = nn.Embedding(input_size, hidden_size)\n",
                "        self.embedding = nn.Embedding.from_pretrained(pretrained_embeddings,freeze = True)\n",
                "        self.gru = nn.GRU(embedding_dim, hidden_size)\n",
                "\n",
                "    def forward(self, input, hidden):\n",
                "        embedded = self.embedding(input).view(1, 1, -1)\n",
                "        output = embedded\n",
                "        output, hidden = self.gru(output, hidden)\n",
                "        return output, hidden\n",
                "\n",
                "    def initHidden(self):\n",
                "        return torch.zeros(1, 1, self.hidden_size, device=device)"
            ]
        },
        {
            "cell_type": "markdown",
            "metadata": {
                "id": "Qs3HMQ8lbUPv"
            },
            "source": [
                "### The Decoder\n",
                "\n",
                "The decoder is another RNN that takes the encoder output vector(s) and\n",
                "outputs a sequence of words to create the translation.\n",
                "\n",
                "\n"
            ]
        },
        {
            "cell_type": "markdown",
            "metadata": {
                "id": "SkFdODgHbUPw"
            },
            "source": [
                "#### Simple Decoder\n",
                "\n",
                "In the simplest seq2seq decoder we use only last output of the encoder.\n",
                "This last output is sometimes called the *context vector* as it encodes\n",
                "context from the entire sequence. This context vector is used as the\n",
                "initial hidden state of the decoder.\n",
                "\n",
                "At every step of decoding, the decoder is given an input token and\n",
                "hidden state. The initial input token is the start-of-string ``<SOS>``\n",
                "token, and the first hidden state is the context vector (the encoder's\n",
                "last hidden state).\n",
                "\n",
                ".. figure:: /_static/img/seq-seq-images/decoder-network.png\n",
                "   :alt:\n",
                "\n",
                "\n",
                "\n"
            ]
        },
        {
            "cell_type": "code",
            "execution_count": 11,
            "metadata": {
                "id": "kG_mRcAubUPw"
            },
            "outputs": [],
            "source": [
                "class DecoderRNN(nn.Module):\n",
                "    def __init__(self, hidden_size, output_size):\n",
                "        super(DecoderRNN, self).__init__()\n",
                "        self.hidden_size = hidden_size\n",
                "\n",
                "        self.embedding = nn.Embedding(output_size, hidden_size)\n",
                "        self.gru = nn.GRU(hidden_size, hidden_size)\n",
                "        self.out = nn.Linear(hidden_size, output_size)\n",
                "        self.softmax = nn.LogSoftmax(dim=1)\n",
                "\n",
                "    def forward(self, input, hidden):\n",
                "        output = self.embedding(input).view(1, 1, -1)\n",
                "        output = F.relu(output)\n",
                "        output, hidden = self.gru(output, hidden)\n",
                "        output = self.softmax(self.out(output[0]))\n",
                "        return output, hidden\n",
                "\n",
                "    def initHidden(self):\n",
                "        return torch.zeros(1, 1, self.hidden_size, device=device)"
            ]
        },
        {
            "cell_type": "markdown",
            "metadata": {
                "id": "sBuBPx65bUPx"
            },
            "source": [
                "I encourage you to train and observe the results of this model, but to\n",
                "save space we'll be going straight for the gold and introducing the\n",
                "Attention Mechanism.\n",
                "\n",
                "\n"
            ]
        },
        {
            "cell_type": "markdown",
            "metadata": {
                "id": "HI7nOD-sbUPx"
            },
            "source": [
                "#### Attention Decoder\n",
                "\n",
                "If only the context vector is passed between the encoder and decoder,\n",
                "that single vector carries the burden of encoding the entire sentence.\n",
                "\n",
                "Attention allows the decoder network to \"focus\" on a different part of\n",
                "the encoder's outputs for every step of the decoder's own outputs. First\n",
                "we calculate a set of *attention weights*. These will be multiplied by\n",
                "the encoder output vectors to create a weighted combination. The result\n",
                "(called ``attn_applied`` in the code) should contain information about\n",
                "that specific part of the input sequence, and thus help the decoder\n",
                "choose the right output words.\n",
                "\n",
                ".. figure:: https://i.imgur.com/1152PYf.png\n",
                "   :alt:\n",
                "\n",
                "Calculating the attention weights is done with another feed-forward\n",
                "layer ``attn``, using the decoder's input and hidden state as inputs.\n",
                "Because there are sentences of all sizes in the training data, to\n",
                "actually create and train this layer we have to choose a maximum\n",
                "sentence length (input length, for encoder outputs) that it can apply\n",
                "to. Sentences of the maximum length will use all the attention weights,\n",
                "while shorter sentences will only use the first few.\n",
                "\n",
                ".. figure:: /_static/img/seq-seq-images/attention-decoder-network.png\n",
                "   :alt:\n",
                "\n",
                "\n",
                "\n"
            ]
        },
        {
            "cell_type": "code",
            "execution_count": 12,
            "metadata": {
                "id": "vKjlVTo0bUPx"
            },
            "outputs": [],
            "source": [
                "class AttnDecoderRNN(nn.Module):\n",
                "    def __init__(self, hidden_size, output_size, dropout_p=0.1, max_length=MAX_LENGTH):\n",
                "        super(AttnDecoderRNN, self).__init__()\n",
                "        self.hidden_size = hidden_size\n",
                "        self.output_size = output_size\n",
                "        self.dropout_p = dropout_p\n",
                "        self.max_length = max_length\n",
                "\n",
                "        self.embedding = nn.Embedding(self.output_size, self.hidden_size)\n",
                "        self.attn = nn.Linear(self.hidden_size * 2, self.max_length)\n",
                "        self.attn_combine = nn.Linear(self.hidden_size * 2, self.hidden_size)\n",
                "        self.dropout = nn.Dropout(self.dropout_p)\n",
                "        self.gru = nn.GRU(self.hidden_size, self.hidden_size)\n",
                "        self.out = nn.Linear(self.hidden_size, self.output_size)\n",
                "\n",
                "    def forward(self, input, hidden, encoder_outputs):\n",
                "        embedded = self.embedding(input).view(1, 1, -1)\n",
                "        embedded = self.dropout(embedded)\n",
                "\n",
                "        attn_weights = F.softmax(\n",
                "            self.attn(torch.cat((embedded[0], hidden[0]), 1)), dim=1)\n",
                "        attn_applied = torch.bmm(attn_weights.unsqueeze(0),\n",
                "                                 encoder_outputs.unsqueeze(0))\n",
                "\n",
                "        output = torch.cat((embedded[0], attn_applied[0]), 1)\n",
                "        output = self.attn_combine(output).unsqueeze(0)\n",
                "\n",
                "        output = F.relu(output)\n",
                "        output, hidden = self.gru(output, hidden)\n",
                "\n",
                "        output = F.log_softmax(self.out(output[0]), dim=1)\n",
                "        return output, hidden, attn_weights\n",
                "\n",
                "    def initHidden(self):\n",
                "        return torch.zeros(1, 1, self.hidden_size, device=device)"
            ]
        },
        {
            "cell_type": "code",
            "execution_count": 13,
            "metadata": {},
            "outputs": [
                {
                    "name": "stdout",
                    "output_type": "stream",
                    "text": [
                        "2.4.1\n",
                        "True\n",
                        "12.4\n"
                    ]
                }
            ],
            "source": [
                "import torch\n",
                "print(torch.__version__)\n",
                "print(torch.cuda.is_available())\n",
                "print(torch.version.cuda)"
            ]
        },
        {
            "cell_type": "markdown",
            "metadata": {
                "id": "LLfRRoZ3bUPx"
            },
            "source": [
                "<div class=\"alert alert-info\"><h4>Note</h4><p>There are other forms of attention that work around the length\n",
                "  limitation by using a relative position approach. Read about \"local\n",
                "  attention\" in [Effective Approaches to Attention-based Neural Machine\n",
                "  Translation](https://arxiv.org/abs/1508.04025)_.</p></div>\n",
                "\n",
                "## Training\n",
                "\n",
                "### Preparing Training Data\n",
                "\n",
                "To train, for each pair we will need an input tensor (indexes of the\n",
                "words in the input sentence) and target tensor (indexes of the words in\n",
                "the target sentence). While creating these vectors we will append the\n",
                "EOS token to both sequences.\n",
                "\n",
                "\n"
            ]
        },
        {
            "cell_type": "code",
            "execution_count": 14,
            "metadata": {
                "colab": {
                    "base_uri": "https://localhost:8080/"
                },
                "id": "HFufFEyVPHfL",
                "outputId": "9e82b689-64e6-48e0-8a57-84ce3243314f"
            },
            "outputs": [],
            "source": [
                "# from torchtext.vocab import GloVe, vocab\n",
                "# global_vectors = GloVe(name='6B', dim=100)\n",
                "# unk_token = '<unk>'\n",
                "# default_index = 1\n",
                "# my_vocab = vocab(global_vectors.stoi, specials=[unk_token])\n",
                "# my_vocab.set_default_index(default_index)\n",
                "# #print(type(global_vectors.Vectors))\n",
                "# pretrained_embeddings = global_vectors.vectors\n",
                "# pretrained_embeddings = torch.cat((torch.zeros(1,pretrained_embeddings.shape[1]),pretrained_embeddings))"
            ]
        },
        {
            "cell_type": "code",
            "execution_count": null,
            "metadata": {},
            "outputs": [],
            "source": []
        },
        {
            "cell_type": "code",
            "execution_count": 15,
            "metadata": {},
            "outputs": [
                {
                    "name": "stdout",
                    "output_type": "stream",
                    "text": [
                        "Index of 'example': 880\n",
                        "Embedding vector shape: torch.Size([50])\n",
                        "False\n"
                    ]
                },
                {
                    "name": "stderr",
                    "output_type": "stream",
                    "text": [
                        "C:\\Users\\User\\AppData\\Local\\Temp\\ipykernel_23904\\4059936799.py:28: UserWarning: Creating a tensor from a list of numpy.ndarrays is extremely slow. Please consider converting the list to a single numpy.ndarray with numpy.array() before converting to a tensor. (Triggered internally at C:\\cb\\pytorch_1000000000000\\work\\torch\\csrc\\utils\\tensor_new.cpp:281.)\n",
                        "  return word_to_index, torch.FloatTensor(embeddings)\n"
                    ]
                }
            ],
            "source": [
                "import numpy as np\n",
                "\n",
                "# assign the my_vocab and pretrained_embeddings\n",
                "\n",
                "\n",
                "\n",
                "def load_glove_embeddings(file_path):\n",
                "    word_to_index = {}\n",
                "    embeddings = []\n",
                "\n",
                "    with open(file_path, 'r', encoding='utf-8') as f:\n",
                "        for i, line in enumerate(f):\n",
                "            values = line.split()\n",
                "            word = values[0]\n",
                "            vector = np.asarray(values[1:], dtype='float32')\n",
                "\n",
                "            word_to_index[word] = i\n",
                "            embeddings.append(vector)\n",
                "\n",
                "    # Add <pad> token at index 0\n",
                "    word_to_index['<pad>'] = len(word_to_index)\n",
                "    embeddings.insert(0, np.zeros(len(embeddings[0])))\n",
                "\n",
                "    # Add <unk> token\n",
                "    word_to_index['<unk>'] = len(word_to_index)\n",
                "    embeddings.append(np.zeros(len(embeddings[0])))\n",
                "\n",
                "    return word_to_index, torch.FloatTensor(embeddings)\n",
                "\n",
                "\n",
                "# Load the embeddings\n",
                "# Make sure this file is in the same directory as your script\n",
                "glove_path = 'glove.6B.50d.txt'\n",
                "word_to_index, pretrained_embeddings = load_glove_embeddings(glove_path)\n",
                "\n",
                "# Create a function to get word indices (similar to vocab lookup)\n",
                "# Handle out-of-vocabulary words by using the default index (usually 1) and <unk> token \n",
                "\n",
                "\n",
                "\n",
                "def get_word_index(word):\n",
                "    return word_to_index.get(word, word_to_index['<unk>'])\n",
                "\n",
                "# Now you can use get_word_index(word) instead of my_vocab[word]\n",
                "# and pretrained_embeddings contains the embeddings with padding at index 0\n",
                "\n",
                "\n",
                "# Example usage:\n",
                "word = \"example\"\n",
                "index = get_word_index(word)\n",
                "vector = pretrained_embeddings[index]\n",
                "\n",
                "print(f\"Index of '{word}': {index}\")\n",
                "print(f\"Embedding vector shape: {vector.shape}\")\n",
                "#check if word overemotional is in vocab\n",
                "\n",
                "print(\"overemotional\" in word_to_index)"
            ]
        },
        {
            "cell_type": "code",
            "execution_count": 16,
            "metadata": {},
            "outputs": [
                {
                    "name": "stdout",
                    "output_type": "stream",
                    "text": [
                        "13075\n"
                    ]
                }
            ],
            "source": [
                "word= \"hello\"\n",
                "print(get_word_index(word))"
            ]
        },
        {
            "cell_type": "code",
            "execution_count": 17,
            "metadata": {
                "id": "Hxy2Rbu7bUPy"
            },
            "outputs": [],
            "source": [
                "def indexesFromSentence(lang, sentence):\n",
                "    return [lang.word2index[word] for word in sentence.split(' ')]\n",
                "\n",
                "def indexesFromVocab(vocab, sentence):\n",
                "  return [get_word_index(word) for word in sentence.split(' ')]\n",
                "  \n",
                "\n",
                "def tensorFromSentence(lang, sentence, use_glove):\n",
                "  if use_glove == False:\n",
                "    indexes = indexesFromSentence(lang, sentence)\n",
                "    indexes.append(EOS_token)\n",
                "    return torch.tensor(indexes, dtype=torch.long, device=device).view(-1, 1)\n",
                "  else:\n",
                "    indexes = indexesFromVocab(lang,sentence)\n",
                "    indexes.append(EOS_token)\n",
                "    return torch.tensor(indexes, dtype=torch.long, device=device).view(-1, 1)\n",
                "\n",
                "\n",
                "def tensorsFromPair(pair):\n",
                "    input_tensor = tensorFromSentence(word_to_index, pair[0], use_glove=True)\n",
                "    target_tensor = tensorFromSentence(output_lang, pair[1],use_glove = False)\n",
                "    return (input_tensor, target_tensor)"
            ]
        },
        {
            "cell_type": "code",
            "execution_count": null,
            "metadata": {},
            "outputs": [],
            "source": []
        },
        {
            "cell_type": "markdown",
            "metadata": {
                "id": "yHoTB6M9bUPy"
            },
            "source": [
                "### Training the Model\n",
                "\n",
                "To train we run the input sentence through the encoder, and keep track\n",
                "of every output and the latest hidden state. Then the decoder is given\n",
                "the ``<SOS>`` token as its first input, and the last hidden state of the\n",
                "encoder as its first hidden state.\n",
                "\n",
                "\"Teacher forcing\" is the concept of using the real target outputs as\n",
                "each next input, instead of using the decoder's guess as the next input.\n",
                "Using teacher forcing causes it to converge faster but [when the trained\n",
                "network is exploited, it may exhibit\n",
                "instability](http://citeseerx.ist.psu.edu/viewdoc/download?doi=10.1.1.378.4095&rep=rep1&type=pdf)_.\n",
                "\n",
                "You can observe outputs of teacher-forced networks that read with\n",
                "coherent grammar but wander far from the correct translation -\n",
                "intuitively it has learned to represent the output grammar and can \"pick\n",
                "up\" the meaning once the teacher tells it the first few words, but it\n",
                "has not properly learned how to create the sentence from the translation\n",
                "in the first place.\n",
                "\n",
                "Because of the freedom PyTorch's autograd gives us, we can randomly\n",
                "choose to use teacher forcing or not with a simple if statement. Turn\n",
                "``teacher_forcing_ratio`` up to use more of it.\n",
                "\n",
                "\n"
            ]
        },
        {
            "cell_type": "code",
            "execution_count": 18,
            "metadata": {
                "id": "iBTrbny9bUPy"
            },
            "outputs": [],
            "source": [
                "teacher_forcing_ratio = 0.5\n",
                "\n",
                "def train(input_tensor, target_tensor, encoder, decoder, encoder_optimizer, decoder_optimizer, criterion, max_length=MAX_LENGTH):\n",
                "    encoder_hidden = encoder.initHidden()\n",
                "\n",
                "    encoder_optimizer.zero_grad()\n",
                "    decoder_optimizer.zero_grad()\n",
                "\n",
                "    input_length = input_tensor.size(0)\n",
                "    target_length = target_tensor.size(0)\n",
                "\n",
                "    encoder_outputs = torch.zeros(max_length, encoder.hidden_size, device=device)\n",
                "\n",
                "    loss = 0\n",
                "\n",
                "    for ei in range(input_length):\n",
                "        encoder_output, encoder_hidden = encoder(\n",
                "            input_tensor[ei], encoder_hidden)\n",
                "        encoder_outputs[ei] = encoder_output[0, 0]\n",
                "\n",
                "    decoder_input = torch.tensor([[SOS_token]], device=device)\n",
                "\n",
                "    decoder_hidden = encoder_hidden\n",
                "\n",
                "    use_teacher_forcing = True if random.random() < teacher_forcing_ratio else False\n",
                "\n",
                "    if use_teacher_forcing:\n",
                "        # Teacher forcing: Feed the target as the next input\n",
                "        for di in range(target_length):\n",
                "            decoder_output, decoder_hidden, decoder_attention = decoder(\n",
                "                decoder_input, decoder_hidden, encoder_outputs)\n",
                "            loss += criterion(decoder_output, target_tensor[di])\n",
                "            decoder_input = target_tensor[di]  # Teacher forcing\n",
                "\n",
                "    else:\n",
                "        # Without teacher forcing: use its own predictions as the next input\n",
                "        for di in range(target_length):\n",
                "            decoder_output, decoder_hidden, decoder_attention = decoder(\n",
                "                decoder_input, decoder_hidden, encoder_outputs)\n",
                "            topv, topi = decoder_output.topk(1)\n",
                "            decoder_input = topi.squeeze().detach()  # detach from history as input\n",
                "\n",
                "            loss += criterion(decoder_output, target_tensor[di])\n",
                "            if decoder_input.item() == EOS_token:\n",
                "                break\n",
                "\n",
                "    loss.backward()\n",
                "\n",
                "    encoder_optimizer.step()\n",
                "    decoder_optimizer.step()\n",
                "\n",
                "    return loss.item() / target_length"
            ]
        },
        {
            "cell_type": "markdown",
            "metadata": {
                "id": "304TISnrbUPy"
            },
            "source": [
                "This is a helper function to print time elapsed and estimated time\n",
                "remaining given the current time and progress %.\n",
                "\n",
                "\n"
            ]
        },
        {
            "cell_type": "code",
            "execution_count": 19,
            "metadata": {
                "id": "pWHpOmKabUPy"
            },
            "outputs": [],
            "source": [
                "import time\n",
                "import math\n",
                "\n",
                "\n",
                "def asMinutes(s):\n",
                "    m = math.floor(s / 60)\n",
                "    s -= m * 60\n",
                "    return '%dm %ds' % (m, s)\n",
                "\n",
                "\n",
                "def timeSince(since, percent):\n",
                "    now = time.time()\n",
                "    s = now - since\n",
                "    es = s / (percent)\n",
                "    rs = es - s\n",
                "    return '%s (- %s)' % (asMinutes(s), asMinutes(rs))"
            ]
        },
        {
            "cell_type": "markdown",
            "metadata": {
                "id": "hKWHwDlkbUPy"
            },
            "source": [
                "The whole training process looks like this:\n",
                "\n",
                "-  Start a timer\n",
                "-  Initialize optimizers and criterion\n",
                "-  Create set of training pairs\n",
                "-  Start empty losses array for plotting\n",
                "\n",
                "Then we call ``train`` many times and occasionally print the progress (%\n",
                "of examples, time so far, estimated time) and average loss.\n",
                "\n",
                "\n"
            ]
        },
        {
            "cell_type": "code",
            "execution_count": 20,
            "metadata": {
                "id": "PVAetj4NbUPy"
            },
            "outputs": [],
            "source": [
                "from sklearn.model_selection import train_test_split\n",
                "def trainIters(encoder, decoder, n_iters, print_every=1000, plot_every=100, learning_rate=0.01):\n",
                "    start = time.time()\n",
                "    plot_losses = []\n",
                "    print_loss_total = 0  # Reset every print_every\n",
                "    plot_loss_total = 0  # Reset every plot_every\n",
                "\n",
                "    encoder_optimizer = optim.SGD(encoder.parameters(), lr=learning_rate)\n",
                "    decoder_optimizer = optim.SGD(decoder.parameters(), lr=learning_rate)\n",
                "    training_pairs = [tensorsFromPair(random.choice(pairs))\n",
                "                      for i in range(n_iters)]\n",
                "    training_pairs, testing_pairs = train_test_split(training_pairs, test_size=0.2, random_state=8)\n",
                "    criterion = nn.NLLLoss()\n",
                "\n",
                "    for iter in range(1, len(training_pairs) + 1):\n",
                "        training_pair = training_pairs[iter - 1]\n",
                "        input_tensor = training_pair[0]\n",
                "        target_tensor = training_pair[1]\n",
                "\n",
                "        loss = train(input_tensor, target_tensor, encoder,\n",
                "                     decoder, encoder_optimizer, decoder_optimizer, criterion)\n",
                "        print_loss_total += loss\n",
                "        plot_loss_total += loss\n",
                "\n",
                "        if iter % print_every == 0:\n",
                "            print_loss_avg = print_loss_total / print_every\n",
                "            print_loss_total = 0\n",
                "            print('%s (%d %d%%) %.4f' % (timeSince(start, iter / n_iters),\n",
                "                                         iter, iter / n_iters * 100, print_loss_avg))\n",
                "\n",
                "        if iter % plot_every == 0:\n",
                "            plot_loss_avg = plot_loss_total / plot_every\n",
                "            plot_losses.append(plot_loss_avg)\n",
                "            plot_loss_total = 0\n",
                "\n",
                "    showPlot(plot_losses)\n",
                "\n"
            ]
        },
        {
            "cell_type": "markdown",
            "metadata": {
                "id": "Y2c7rzGcbUPy"
            },
            "source": [
                "### Plotting results\n",
                "\n",
                "Plotting is done with matplotlib, using the array of loss values\n",
                "``plot_losses`` saved while training.\n",
                "\n",
                "\n"
            ]
        },
        {
            "cell_type": "code",
            "execution_count": 21,
            "metadata": {
                "id": "xrObE-RsbUPz"
            },
            "outputs": [],
            "source": [
                "import matplotlib.pyplot as plt\n",
                "plt.switch_backend('agg')\n",
                "import matplotlib.ticker as ticker\n",
                "import numpy as np\n",
                "\n",
                "\n",
                "def showPlot(points):\n",
                "    plt.figure()\n",
                "    fig, ax = plt.subplots()\n",
                "    # this locator puts ticks at regular intervals\n",
                "    loc = ticker.MultipleLocator(base=0.2)\n",
                "    ax.yaxis.set_major_locator(loc)\n",
                "    plt.plot(points)"
            ]
        },
        {
            "cell_type": "markdown",
            "metadata": {
                "id": "6FYF6JYVbUPz"
            },
            "source": [
                "## Evaluation\n",
                "\n",
                "Evaluation is mostly the same as training, but there are no targets so\n",
                "we simply feed the decoder's predictions back to itself for each step.\n",
                "Every time it predicts a word we add it to the output string, and if it\n",
                "predicts the EOS token we stop there. We also store the decoder's\n",
                "attention outputs for display later.\n",
                "\n",
                "\n"
            ]
        },
        {
            "cell_type": "code",
            "execution_count": 22,
            "metadata": {
                "id": "XJnL2f_HbUPz"
            },
            "outputs": [],
            "source": [
                "def evaluate(encoder, decoder, sentence, max_length=MAX_LENGTH):\n",
                "    with torch.no_grad():\n",
                "        input_tensor = tensorFromSentence(input_lang, sentence,use_glove = True)\n",
                "        input_length = input_tensor.size()[0]\n",
                "        encoder_hidden = encoder.initHidden()\n",
                "\n",
                "        encoder_outputs = torch.zeros(max_length, encoder.hidden_size, device=device)\n",
                "\n",
                "        for ei in range(input_length):\n",
                "            encoder_output, encoder_hidden = encoder(input_tensor[ei],\n",
                "                                                     encoder_hidden)\n",
                "            encoder_outputs[ei] += encoder_output[0, 0]\n",
                "\n",
                "        decoder_input = torch.tensor([[SOS_token]], device=device)  # SOS\n",
                "\n",
                "        decoder_hidden = encoder_hidden\n",
                "\n",
                "        decoded_words = []\n",
                "        decoder_attentions = torch.zeros(max_length, max_length)\n",
                "\n",
                "        for di in range(max_length):\n",
                "            decoder_output, decoder_hidden, decoder_attention = decoder(\n",
                "                decoder_input, decoder_hidden, encoder_outputs)\n",
                "            decoder_attentions[di] = decoder_attention.data\n",
                "            topv, topi = decoder_output.data.topk(1)\n",
                "            if topi.item() == EOS_token:\n",
                "                decoded_words.append('<EOS>')\n",
                "                break\n",
                "            else:\n",
                "                decoded_words.append(output_lang.index2word[topi.item()])\n",
                "\n",
                "            decoder_input = topi.squeeze().detach()\n",
                "\n",
                "        return decoded_words, decoder_attentions[:di + 1]"
            ]
        },
        {
            "cell_type": "markdown",
            "metadata": {
                "id": "TIK-QVRcbUPz"
            },
            "source": [
                "We can evaluate random sentences from the training set and print out the\n",
                "input, target, and output to make some subjective quality judgements:\n",
                "\n",
                "\n"
            ]
        },
        {
            "cell_type": "code",
            "execution_count": 23,
            "metadata": {
                "id": "ySklfC_2bUPz"
            },
            "outputs": [],
            "source": [
                "def evaluateRandomly(encoder, decoder, n=10):\n",
                "    for i in range(n):\n",
                "        pair = random.choice(pairs)\n",
                "        print('>', pair[0])\n",
                "        print('=', pair[1])\n",
                "        output_words, attentions = evaluate(encoder, decoder, pair[0])\n",
                "        output_sentence = ' '.join(output_words)\n",
                "        print('<', output_sentence)\n",
                "        print('')"
            ]
        },
        {
            "cell_type": "markdown",
            "metadata": {
                "id": "GN487xSobUPz"
            },
            "source": [
                "## Training and Evaluating\n",
                "\n",
                "With all these helper functions in place (it looks like extra work, but\n",
                "it makes it easier to run multiple experiments) we can actually\n",
                "initialize a network and start training.\n",
                "\n",
                "Remember that the input sentences were heavily filtered. For this small\n",
                "dataset we can use relatively small networks of 256 hidden nodes and a\n",
                "single GRU layer. After about 40 minutes on a MacBook CPU we'll get some\n",
                "reasonable results.\n",
                "\n",
                ".. Note::\n",
                "   If you run this notebook you can train, interrupt the kernel,\n",
                "   evaluate, and continue training later. Comment out the lines where the\n",
                "   encoder and decoder are initialized and run ``trainIters`` again.\n",
                "\n",
                "\n"
            ]
        },
        {
            "cell_type": "code",
            "execution_count": 24,
            "metadata": {
                "colab": {
                    "base_uri": "https://localhost:8080/"
                },
                "id": "2VdcMJ0DbUPz",
                "outputId": "d49f47ef-90c4-40e0-cd62-cb33ed6b307a"
            },
            "outputs": [
                {
                    "name": "stdout",
                    "output_type": "stream",
                    "text": [
                        "1m 11s (- 4m 47s) (5000 20%) 3.7275\n",
                        "2m 21s (- 3m 32s) (10000 40%) 3.1796\n",
                        "3m 29s (- 2m 19s) (15000 60%) 2.9326\n",
                        "4m 38s (- 1m 9s) (20000 80%) 2.8065\n"
                    ]
                }
            ],
            "source": [
                "hidden_size = 256\n",
                "encoder1 = EncoderRNN(input_lang.n_words, hidden_size).to(device)\n",
                "attn_decoder1 = AttnDecoderRNN(hidden_size, output_lang.n_words, dropout_p=0.1).to(device)\n",
                "\n",
                "trainIters(encoder1, attn_decoder1, 25000, print_every=5000)"
            ]
        },
        {
            "cell_type": "code",
            "execution_count": 25,
            "metadata": {
                "colab": {
                    "base_uri": "https://localhost:8080/",
                    "height": 345
                },
                "id": "FEt6Nx6UbUP0",
                "outputId": "e0b683ae-c5a4-40aa-fd22-a71a07d676a6"
            },
            "outputs": [
                {
                    "name": "stdout",
                    "output_type": "stream",
                    "text": [
                        "> they are crazy about jazz .\n",
                        "= ils sont dingues de jazz .\n",
                        "< ils sont tous . <EOS>\n",
                        "\n",
                        "> you aren t invited .\n",
                        "= vous n etes pas invitee .\n",
                        "< tu n es pas en . <EOS>\n",
                        "\n",
                        "> he is carrying out experiments in his laboratory .\n",
                        "= il entreprend des experiences dans son laboratoire .\n",
                        "< il est en de pour . . <EOS>\n",
                        "\n",
                        "> they re all alike .\n",
                        "= ils sont tous semblables .\n",
                        "< ils sont tous . . <EOS>\n",
                        "\n",
                        "> you re lazy .\n",
                        "= tu es paresseux .\n",
                        "< tu es bon . <EOS>\n",
                        "\n",
                        "> we re conscientious .\n",
                        "= nous sommes consciencieuses .\n",
                        "< nous sommes sommes . <EOS>\n",
                        "\n",
                        "> you re not alone anymore .\n",
                        "= vous n etes plus seul .\n",
                        "< tu n es pas pas . . <EOS>\n",
                        "\n",
                        "> he is clumsy with his hands .\n",
                        "= il est maladroit de ses mains .\n",
                        "< il est en de de . <EOS>\n",
                        "\n",
                        "> we re ruined .\n",
                        "= nous sommes ruinees .\n",
                        "< nous sommes en . <EOS>\n",
                        "\n",
                        "> i m not a violent person .\n",
                        "= je ne suis pas une personne violente .\n",
                        "< je ne suis pas pas . . <EOS>\n",
                        "\n"
                    ]
                }
            ],
            "source": [
                "evaluateRandomly(encoder1, attn_decoder1)"
            ]
        },
        {
            "cell_type": "markdown",
            "metadata": {
                "id": "-novCUFAbUP0"
            },
            "source": [
                "### Visualizing Attention\n",
                "\n",
                "A useful property of the attention mechanism is its highly interpretable\n",
                "outputs. Because it is used to weight specific encoder outputs of the\n",
                "input sequence, we can imagine looking where the network is focused most\n",
                "at each time step.\n",
                "\n",
                "You could simply run ``plt.matshow(attentions)`` to see attention output\n",
                "displayed as a matrix, with the columns being input steps and rows being\n",
                "output steps:\n",
                "\n",
                "\n"
            ]
        },
        {
            "cell_type": "code",
            "execution_count": 26,
            "metadata": {
                "colab": {
                    "base_uri": "https://localhost:8080/",
                    "height": 345
                },
                "id": "J-AQsI5hbUP0",
                "outputId": "b218d719-f3dc-4dd6-c80e-b9baf34f90c9"
            },
            "outputs": [
                {
                    "data": {
                        "text/plain": [
                            "<Figure size 640x480 with 0 Axes>"
                        ]
                    },
                    "metadata": {},
                    "output_type": "display_data"
                },
                {
                    "data": {
                        "image/png": "[encoded data removed]",
                        "text/plain": [
                            "<Figure size 640x480 with 1 Axes>"
                        ]
                    },
                    "metadata": {},
                    "output_type": "display_data"
                },
                {
                    "data": {
                        "image/png": "[encoded data removed]",
                        "text/plain": [
                            "<Figure size 960x480 with 1 Axes>"
                        ]
                    },
                    "metadata": {},
                    "output_type": "display_data"
                }
            ],
            "source": [
                "%matplotlib inline\n",
                "output_words, attentions = evaluate(\n",
                "    encoder1, attn_decoder1, \"je suis trop froid .\")\n",
                "plt.matshow(attentions.numpy())\n",
                "plt.show()"
            ]
        },
        {
            "cell_type": "markdown",
            "metadata": {
                "id": "yhhj7YwPbUP0"
            },
            "source": [
                "For a better viewing experience we will do the extra work of adding axes\n",
                "and labels:\n",
                "\n",
                "\n"
            ]
        },
        {
            "cell_type": "code",
            "execution_count": 27,
            "metadata": {
                "colab": {
                    "base_uri": "https://localhost:8080/",
                    "height": 380
                },
                "id": "FNPgjUanbUP0",
                "outputId": "e7c67e9a-3a05-4b7b-ade8-559f361d582c"
            },
            "outputs": [
                {
                    "name": "stdout",
                    "output_type": "stream",
                    "text": [
                        "input = elle a cinq ans de moins que moi .\n",
                        "output = il est un peu . <EOS>\n"
                    ]
                },
                {
                    "name": "stderr",
                    "output_type": "stream",
                    "text": [
                        "C:\\Users\\User\\AppData\\Local\\Temp\\ipykernel_23904\\744067545.py:9: UserWarning: set_ticklabels() should only be used with a fixed number of ticks, i.e. after set_ticks() or using a FixedLocator.\n",
                        "  ax.set_xticklabels([''] + input_sentence.split(' ') +\n",
                        "C:\\Users\\User\\AppData\\Local\\Temp\\ipykernel_23904\\744067545.py:11: UserWarning: set_ticklabels() should only be used with a fixed number of ticks, i.e. after set_ticks() or using a FixedLocator.\n",
                        "  ax.set_yticklabels([''] + output_words)\n"
                    ]
                },
                {
                    "data": {
                        "image/png": "[encoded data removed]",
                        "text/plain": [
                            "<Figure size 640x480 with 2 Axes>"
                        ]
                    },
                    "metadata": {},
                    "output_type": "display_data"
                },
                {
                    "name": "stdout",
                    "output_type": "stream",
                    "text": [
                        "input = elle est trop petit .\n",
                        "output = nous sommes en . <EOS>\n"
                    ]
                },
                {
                    "name": "stderr",
                    "output_type": "stream",
                    "text": [
                        "C:\\Users\\User\\AppData\\Local\\Temp\\ipykernel_23904\\744067545.py:9: UserWarning: set_ticklabels() should only be used with a fixed number of ticks, i.e. after set_ticks() or using a FixedLocator.\n",
                        "  ax.set_xticklabels([''] + input_sentence.split(' ') +\n",
                        "C:\\Users\\User\\AppData\\Local\\Temp\\ipykernel_23904\\744067545.py:11: UserWarning: set_ticklabels() should only be used with a fixed number of ticks, i.e. after set_ticks() or using a FixedLocator.\n",
                        "  ax.set_yticklabels([''] + output_words)\n"
                    ]
                },
                {
                    "data": {
                        "image/png": "[encoded data removed]",
                        "text/plain": [
                            "<Figure size 640x480 with 2 Axes>"
                        ]
                    },
                    "metadata": {},
                    "output_type": "display_data"
                },
                {
                    "name": "stdout",
                    "output_type": "stream",
                    "text": [
                        "input = je ne crains pas de mourir .\n",
                        "output = il est un peu de . <EOS>\n"
                    ]
                },
                {
                    "name": "stderr",
                    "output_type": "stream",
                    "text": [
                        "C:\\Users\\User\\AppData\\Local\\Temp\\ipykernel_23904\\744067545.py:9: UserWarning: set_ticklabels() should only be used with a fixed number of ticks, i.e. after set_ticks() or using a FixedLocator.\n",
                        "  ax.set_xticklabels([''] + input_sentence.split(' ') +\n",
                        "C:\\Users\\User\\AppData\\Local\\Temp\\ipykernel_23904\\744067545.py:11: UserWarning: set_ticklabels() should only be used with a fixed number of ticks, i.e. after set_ticks() or using a FixedLocator.\n",
                        "  ax.set_yticklabels([''] + output_words)\n"
                    ]
                },
                {
                    "data": {
                        "image/png": "[encoded data removed]",
                        "text/plain": [
                            "<Figure size 640x480 with 2 Axes>"
                        ]
                    },
                    "metadata": {},
                    "output_type": "display_data"
                },
                {
                    "name": "stderr",
                    "output_type": "stream",
                    "text": [
                        "C:\\Users\\User\\AppData\\Local\\Temp\\ipykernel_23904\\744067545.py:9: UserWarning: set_ticklabels() should only be used with a fixed number of ticks, i.e. after set_ticks() or using a FixedLocator.\n",
                        "  ax.set_xticklabels([''] + input_sentence.split(' ') +\n",
                        "C:\\Users\\User\\AppData\\Local\\Temp\\ipykernel_23904\\744067545.py:11: UserWarning: set_ticklabels() should only be used with a fixed number of ticks, i.e. after set_ticks() or using a FixedLocator.\n",
                        "  ax.set_yticklabels([''] + output_words)\n"
                    ]
                },
                {
                    "name": "stdout",
                    "output_type": "stream",
                    "text": [
                        "input = c est un jeune directeur plein de talent .\n",
                        "output = je suis un peu de . <EOS>\n"
                    ]
                },
                {
                    "data": {
                        "image/png": "[encoded data removed]",
                        "text/plain": [
                            "<Figure size 640x480 with 2 Axes>"
                        ]
                    },
                    "metadata": {},
                    "output_type": "display_data"
                }
            ],
            "source": [
                "def showAttention(input_sentence, output_words, attentions):\n",
                "    # Set up figure with colorbar\n",
                "    fig = plt.figure()\n",
                "    ax = fig.add_subplot(111)\n",
                "    cax = ax.matshow(attentions.numpy(), cmap='bone')\n",
                "    fig.colorbar(cax)\n",
                "\n",
                "    # Set up axes\n",
                "    ax.set_xticklabels([''] + input_sentence.split(' ') +\n",
                "                       ['<EOS>'], rotation=90)\n",
                "    ax.set_yticklabels([''] + output_words)\n",
                "\n",
                "    # Show label at every tick\n",
                "    ax.xaxis.set_major_locator(ticker.MultipleLocator(1))\n",
                "    ax.yaxis.set_major_locator(ticker.MultipleLocator(1))\n",
                "\n",
                "    plt.show()\n",
                "\n",
                "\n",
                "def evaluateAndShowAttention(input_sentence):\n",
                "    output_words, attentions = evaluate(\n",
                "        encoder1, attn_decoder1, input_sentence)\n",
                "    print('input =', input_sentence)\n",
                "    print('output =', ' '.join(output_words))\n",
                "    showAttention(input_sentence, output_words, attentions)\n",
                "\n",
                "\n",
                "evaluateAndShowAttention(\"elle a cinq ans de moins que moi .\")\n",
                "\n",
                "evaluateAndShowAttention(\"elle est trop petit .\")\n",
                "\n",
                "evaluateAndShowAttention(\"je ne crains pas de mourir .\")\n",
                "\n",
                "evaluateAndShowAttention(\"c est un jeune directeur plein de talent .\")"
            ]
        },
        {
            "cell_type": "markdown",
            "metadata": {
                "id": "j2PEoJ6wbUP0"
            },
            "source": [
                "## Exercises\n",
                "\n",
                "-  Try with a different dataset\n",
                "\n",
                "   -  Another language pair\n",
                "   -  Human → Machine (e.g. IOT commands)\n",
                "   -  Chat → Response\n",
                "   -  Question → Answer\n",
                "\n",
                "-  Replace the embeddings with pre-trained word embeddings such as word2vec or\n",
                "   GloVe\n",
                "-  Try with more layers, more hidden units, and more sentences. Compare\n",
                "   the training time and results.\n",
                "-  If you use a translation file where pairs have two of the same phrase\n",
                "   (``I am test \\t I am test``), you can use this as an autoencoder. Try\n",
                "   this:\n",
                "\n",
                "   -  Train as an autoencoder\n",
                "   -  Save only the Encoder network\n",
                "   -  Train a new Decoder for translation from there\n",
                "\n",
                "\n"
            ]
        }
    ],
    "metadata": {
        "accelerator": "GPU",
        "colab": {
            "collapsed_sections": [],
            "provenance": []
        },
        "gpuClass": "standard",
        "kernelspec": {
            "display_name": "Python 3 (ipykernel)",
            "language": "python",
            "name": "python3"
        },
        "language_info": {
            "codemirror_mode": {
                "name": "ipython",
                "version": 3
            },
            "file_extension": ".py",
            "mimetype": "text/x-python",
            "name": "python",
            "nbconvert_exporter": "python",
            "pygments_lexer": "ipython3",
            "version": "3.12.3"
        }
    },
    "nbformat": 4,
    "nbformat_minor": 4
}
